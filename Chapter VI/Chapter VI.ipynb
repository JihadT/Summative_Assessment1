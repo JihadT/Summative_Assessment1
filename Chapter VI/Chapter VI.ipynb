{
 "cells": [
  {
   "attachments": {},
   "cell_type": "markdown",
   "metadata": {},
   "source": [
    "Exercise 1: Basic Math"
   ]
  },
  {
   "cell_type": "code",
   "execution_count": 1,
   "metadata": {},
   "outputs": [
    {
     "name": "stdout",
     "output_type": "stream",
     "text": [
      "The ceiling of 2.3 is 3\n",
      "The floor of 2.3 is 2\n",
      "The factorial of a is 120\n",
      "The result of base 2 to the power of three 8\n",
      "The square root of 16 is 4\n"
     ]
    }
   ],
   "source": [
    "import math as mth\n",
    "\n",
    "a = 2.3\n",
    "print(\"The ceiling of 2.3 is\", mth.ceil(2.3))\n",
    "print(\"The floor of 2.3 is\", mth.floor(2.3))\n",
    "\n",
    "a = 5\n",
    "print(\"The factorial of a is\", mth.factorial(5))\n",
    "print(\"The result of base 2 to the power of three\", round(mth.pow(2,3)))\n",
    "\n",
    "a = 16\n",
    "print(\"The square root of 16 is\", round(mth.sqrt(16)))"
   ]
  },
  {
   "attachments": {},
   "cell_type": "markdown",
   "metadata": {},
   "source": [
    "Exercise 2: Numpy Array"
   ]
  },
  {
   "cell_type": "code",
   "execution_count": 2,
   "metadata": {},
   "outputs": [
    {
     "ename": "ModuleNotFoundError",
     "evalue": "No module named 'numpy'",
     "output_type": "error",
     "traceback": [
      "\u001b[1;31m---------------------------------------------------------------------------\u001b[0m",
      "\u001b[1;31mModuleNotFoundError\u001b[0m                       Traceback (most recent call last)",
      "Cell \u001b[1;32mIn [2], line 1\u001b[0m\n\u001b[1;32m----> 1\u001b[0m \u001b[39mimport\u001b[39;00m \u001b[39mnumpy\u001b[39;00m \u001b[39mas\u001b[39;00m \u001b[39mnp\u001b[39;00m\n\u001b[0;32m      3\u001b[0m a \u001b[39m=\u001b[39m np\u001b[39m.\u001b[39marray([\u001b[39m20\u001b[39m,\u001b[39m23\u001b[39m,\u001b[39m82\u001b[39m,\u001b[39m40\u001b[39m,\u001b[39m32\u001b[39m,\u001b[39m15\u001b[39m,\u001b[39m67\u001b[39m,\u001b[39m52\u001b[39m])\n\u001b[0;32m      5\u001b[0m x \u001b[39m=\u001b[39m np\u001b[39m.\u001b[39mwhere(a \u001b[39m%\u001b[39m \u001b[39m2\u001b[39m \u001b[39m==\u001b[39m \u001b[39m0\u001b[39m)\n",
      "\u001b[1;31mModuleNotFoundError\u001b[0m: No module named 'numpy'"
     ]
    }
   ],
   "source": [
    "import numpy as np\n",
    "x = np.array([20,23,82,40,32,15,67,52])\n",
    "y = np.where(x % 2 == 0)\n",
    "\n",
    "for z in y[0]:\n",
    "    print(z)\n",
    "print(\"Sorted array: \", np.sort(x))\n",
    "print(\"Index 3 sliced till the end: \", x[3:])\n",
    "print(\"Index 0 to index 4 sliced:\", x[0:4])\n",
    "print(\"Printing only (32, 15, 67)\", x[-4:-1])"
   ]
  },
  {
   "attachments": {},
   "cell_type": "markdown",
   "metadata": {},
   "source": [
    "Exercise 3: Calculator"
   ]
  },
  {
   "cell_type": "code",
   "execution_count": null,
   "metadata": {},
   "outputs": [],
   "source": []
  },
  {
   "attachments": {},
   "cell_type": "markdown",
   "metadata": {},
   "source": [
    "Exercise 4: Stack Bar Graph"
   ]
  },
  {
   "cell_type": "code",
   "execution_count": 1,
   "metadata": {},
   "outputs": [
    {
     "ename": "ModuleNotFoundError",
     "evalue": "No module named 'matplotlib'",
     "output_type": "error",
     "traceback": [
      "\u001b[1;31m---------------------------------------------------------------------------\u001b[0m",
      "\u001b[1;31mModuleNotFoundError\u001b[0m                       Traceback (most recent call last)",
      "Cell \u001b[1;32mIn [1], line 1\u001b[0m\n\u001b[1;32m----> 1\u001b[0m \u001b[39mimport\u001b[39;00m \u001b[39mmatplotlib\u001b[39;00m\u001b[39m.\u001b[39;00m\u001b[39mpyplot\u001b[39;00m \u001b[39mas\u001b[39;00m \u001b[39mplt\u001b[39;00m\n\u001b[0;32m      3\u001b[0m table \u001b[39m=\u001b[39m plt\u001b[39m.\u001b[39mfigure()\n\u001b[0;32m      4\u001b[0m events \u001b[39m=\u001b[39m [\u001b[39m'\u001b[39m\u001b[39mGame\u001b[39m\u001b[39m'\u001b[39m, \u001b[39m'\u001b[39m\u001b[39mCommercials\u001b[39m\u001b[39m'\u001b[39m, \u001b[39m\"\u001b[39m\u001b[39mWon\u001b[39m\u001b[39m'\u001b[39m\u001b[39mt watch\u001b[39m\u001b[39m\"\u001b[39m]\n",
      "\u001b[1;31mModuleNotFoundError\u001b[0m: No module named 'matplotlib'"
     ]
    }
   ],
   "source": [
    "import matplotlib.pyplot as plt\n",
    "table = plt.figure()\n",
    "ques = ['Game', 'Commercials', \"Won't watch\"]\n",
    "m = [279, 81, 132]\n",
    "f = [200, 156, 160]\n",
    "color = ['#F6EA7BFF', '#FFBA52FF', '#E683A9FF']\n",
    "tick = ['Game', 'Commercials', \"Won't watch\"]\n",
    "\n",
    "plt.bar(ques, m, color = 'blue')\n",
    "plt.bar(ques, f, bottom = m, color = 'red')\n",
    "\n",
    "plt.xlabel('Questions')\n",
    "plt.ylabel('Number of Americans 18 and above')\n",
    "plt.title('Answers')\n",
    "plt.show()"
   ]
  }
 ],
 "metadata": {
  "kernelspec": {
   "display_name": "Python 3",
   "language": "python",
   "name": "python3"
  },
  "language_info": {
   "codemirror_mode": {
    "name": "ipython",
    "version": 3
   },
   "file_extension": ".py",
   "mimetype": "text/x-python",
   "name": "python",
   "nbconvert_exporter": "python",
   "pygments_lexer": "ipython3",
   "version": "3.11.1"
  },
  "orig_nbformat": 4,
  "vscode": {
   "interpreter": {
    "hash": "991f681cc1e9b44d094ae24c6a7364d87bff330c40c764f3e3b7cd958115720b"
   }
  }
 },
 "nbformat": 4,
 "nbformat_minor": 2
}
