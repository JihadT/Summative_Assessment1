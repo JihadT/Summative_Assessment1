{
 "cells": [
  {
   "cell_type": "code",
   "execution_count": 8,
   "metadata": {},
   "outputs": [
    {
     "name": "stdout",
     "output_type": "stream",
     "text": [
      "\n",
      "About Eleven:\n",
      "Name: Eleven\n",
      "Breed: Shiba Inu\n",
      "Age: 2 years old\n",
      "\n",
      "About Eleya:\n",
      "Name: Eleya\n",
      "Breed: Akita Inu\n",
      "Age: 3 years old\n",
      "\n",
      "The oldest dog is Eleya with the age of 3\n"
     ]
    }
   ],
   "source": [
    "class Doge():\n",
    "    def __init__(self, name, breed, age):\n",
    "        self.name = name\n",
    "        self.breed = breed\n",
    "        self.age = age\n",
    "    def display(self):\n",
    "        print(f'\\nAbout {self.name.title()}:')\n",
    "        print('Name:', self.name.title())\n",
    "        print('Breed:', self.breed.title())\n",
    "        print('Age:', self.age, 'years old')\n",
    "    def oldest(self):\n",
    "        print(f'\\nThe oldest dog is {self.name.title()} with the age of {self.age}')\n",
    "\n",
    "woof = Doge(\"eleven\", \"shiba inu\", \"2\")\n",
    "woof.display()\n",
    "\n",
    "woof2 = Doge(\"eleya\", \"akita inu\", \"3\")\n",
    "woof2.display()\n",
    "if woof.age > woof2.age:\n",
    "    woof.oldest()\n",
    "else:\n",
    "    woof2.oldest()"
   ]
  },
  {
   "attachments": {},
   "cell_type": "markdown",
   "metadata": {},
   "source": [
    "Exercise 2: Student Class"
   ]
  },
  {
   "cell_type": "code",
   "execution_count": 10,
   "metadata": {},
   "outputs": [
    {
     "name": "stdout",
     "output_type": "stream",
     "text": [
      "The average grade of Jihad is 37.0\n"
     ]
    }
   ],
   "source": [
    "class Student:\n",
    "    def __init__(self, name, eng, mth, his):\n",
    "        self.name = name\n",
    "        self.eng = eng\n",
    "        self.mth = mth\n",
    "        self.his = his\n",
    "    def calcGrade(self):\n",
    "        avg = (self.eng + self.mth + self.his) / 3\n",
    "        return round(avg, 1)\n",
    "    def display(self):\n",
    "        print(f'The average grade of {self.name.title()} is {self.calcGrade()}')\n",
    "\n",
    "name = input(\"Enter the student's name: \")\n",
    "eng = int(input(f\"Input English marks of {name.title()}: \"))\n",
    "mth = int(input(f\"Input Math marks of {name.title()}: \"))\n",
    "his = int(input(f\"Input History marks of {name.title()}: \"))\n",
    "\n",
    "student1 = Student(name, eng, mth, his)\n",
    "student1.display()"
   ]
  },
  {
   "attachments": {},
   "cell_type": "markdown",
   "metadata": {},
   "source": [
    "Exercise 3: Employee Class"
   ]
  },
  {
   "cell_type": "code",
   "execution_count": 13,
   "metadata": {},
   "outputs": [
    {
     "name": "stdout",
     "output_type": "stream",
     "text": [
      "Enter details for employee 1 :\n",
      "Enter details for employee 2 :\n",
      "Enter details for employee 3 :\n",
      "Enter details for employee 4 :\n",
      "Enter details for employee 5 :\n",
      "\n",
      "Employee data chart:\n",
      "Name\t\tAge\tID\tSalary\n",
      "Jihad\t\t20\t11\t10000\n",
      "Earl\t\t20\t5\t500\n",
      "Sean\t\t19\t7\t2000\n",
      "Claude\t\t20\t10\t5000\n",
      "Eleya\t\t21\t1\t10000\n"
     ]
    }
   ],
   "source": [
    "class Employee:\n",
    "    empCount = 0\n",
    "    def __init__(self, name, age, id, salary):\n",
    "        self.name = name\n",
    "        self.age = age\n",
    "        self.id = id\n",
    "        self.salary = salary\n",
    "        Employee.empCount += 1 \n",
    "    def getData(self):\n",
    "        for x in obj:\n",
    "            print(f\"{x[0]}\\t\\t{x[1]}\\t{x[2]}\\t{x[3]}\")\n",
    "    def setData(self):\n",
    "        return self.name, self.age, self.id, self.salary\n",
    "obj = [(\"Name\", \"Age\", \"ID\", \"Salary\")]\n",
    "\n",
    "for i in range(1,6):\n",
    "    print(\"Enter details for employee\", i, \":\")\n",
    "\n",
    "    name = input(\"Enter employee's name: \")\n",
    "    age = input(\"Enter employee's age: \")\n",
    "    id = input(\"Enter employee's id: \")\n",
    "    salary = input(\"Enter employee's salary: \")\n",
    "\n",
    "    myEmployee = Employee(name.title(), age, id.upper(), salary)\n",
    "    obj.append(myEmployee.setData())\n",
    "\n",
    "print(\"\\nEmployee data chart:\")\n",
    "myEmployee.getData()"
   ]
  },
  {
   "attachments": {},
   "cell_type": "markdown",
   "metadata": {},
   "source": [
    "Exercise 4: Shapes"
   ]
  },
  {
   "cell_type": "code",
   "execution_count": 20,
   "metadata": {},
   "outputs": [
    {
     "name": "stdout",
     "output_type": "stream",
     "text": [
      "The area of the circle with a radius of 5 is:\n",
      "78.5\n",
      "Rectangle area:\n",
      "The area of the rectangle with one side as 5 and the other as 5 is:\n",
      "25\n",
      "Triangle area:\n",
      "The area of the triangle with a side of 5 and the height of 5 is:\n",
      "12\n"
     ]
    }
   ],
   "source": [
    "import Constant\n",
    "class Shapes:\n",
    "    def __init__(self, side1, side2, side3):\n",
    "        self.base = side1\n",
    "        self.side2 = side2\n",
    "        self.height = side3\n",
    "    def inputSides():\n",
    "        base = int(input(\"Input the base value of a side/radius (For all Shapes): \"))\n",
    "        side2 = int(input(\"Input the value of the second side (For Rectangle): \"))\n",
    "        height = int(input(\"Input the value of the height ( For Triangle): \"))\n",
    "        return Shapes(base, side2, height)\n",
    "\n",
    "class Circle(Shapes):\n",
    "    def __init__(self, side1, side2, side3):\n",
    "        super().__init__(side1, side2, side3)\n",
    "    def area(self):\n",
    "        print(\"The area of the circle with a radius of\", self.base, \"is:\")\n",
    "        print((self.base * self.base) * (Constant.PI))\n",
    "class Rectangle(Shapes):\n",
    "    def __init__(self, side1, side2, side3):\n",
    "        super().__init__(side1, side2, side3)   \n",
    "    def area(self):\n",
    "        print(\"The area of the rectangle with one side as\", self.base, \"and the other as\", self.side2, \"is:\")\n",
    "        print(self.base * self.side2)\n",
    "class Triangle(Shapes):\n",
    "    def __init__(self, side1, side2, side3):\n",
    "        super().__init__(side1, side2, side3)\n",
    "    def area(self):\n",
    "        print(\"The area of the triangle with a side of\", self.base, \"and the height of\", self.height, \"is:\")\n",
    "        print(round((self.base * self.height) / 2))\n",
    "side = Shapes.inputSides()\n",
    "circleArea = Circle.area(side)\n",
    "rectangleArea = Rectangle.area(side)\n",
    "triangleArea = Triangle.area(side)"
   ]
  },
  {
   "attachments": {},
   "cell_type": "markdown",
   "metadata": {},
   "source": [
    "Optional Exercise 5: Playing Around in Class"
   ]
  },
  {
   "cell_type": "code",
   "execution_count": 27,
   "metadata": {},
   "outputs": [
    {
     "name": "stdout",
     "output_type": "stream",
     "text": [
      "\n",
      "Heyy! My name is Biggest Bird\n",
      "CHIRP CHIRP!!!\n",
      "Information:\n",
      "Name: Biggest Bird\n",
      "Type: Bird\n",
      "Colour: Black & White\n",
      "Age: 2\n",
      "Weight: 1\n",
      "Noise: Chirp Chirp\n",
      "\n",
      "Heyy! My name is Coin\n",
      "WOOF WOOF!!!\n",
      "Information:\n",
      "Name: Coin\n",
      "Type: Doge\n",
      "Colour: Gold & White\n",
      "Age: 3\n",
      "Weight: 40\n",
      "Noise: Woof Woof\n"
     ]
    }
   ],
   "source": [
    "class Animal():\n",
    "    def __init__(self, Type, Name, Colour, Age, Weight, Noise):\n",
    "        self.type = Type\n",
    "        self.name = Name\n",
    "        self.colour = Colour\n",
    "        self.age = Age\n",
    "        self.weight = Weight\n",
    "        self.noise = Noise\n",
    "    def sayhello(self):\n",
    "        print(f\"\\nHeyy! My name is {self.name.title()}\")\n",
    "    def makeNoise(self):\n",
    "        print(f\"{self.noise.upper()}!!!\")\n",
    "    def animalDetails(self):\n",
    "        print(\"Information:\")\n",
    "        print(f\"Name: {self.name.title()}\\nType: {self.type.title()}\\nColour: {self.colour.title()}\\nAge: {self.age}\\nWeight: {self.weight}\\nNoise: {self.noise.title()}\")\n",
    "\n",
    "birb = Animal(\"bird\", \"Biggest Bird\", \"black & white\", 2, 1, \"chirp chirp\")\n",
    "birb.sayhello()\n",
    "birb.makeNoise()\n",
    "birb.animalDetails()\n",
    "\n",
    "doge = Animal(\"doge\", \"coin\", \"gold & white\", 3, 40, \"woof woof\")\n",
    "doge.sayhello()\n",
    "doge.makeNoise()\n",
    "doge.animalDetails()"
   ]
  }
 ],
 "metadata": {
  "kernelspec": {
   "display_name": "Python 3",
   "language": "python",
   "name": "python3"
  },
  "language_info": {
   "codemirror_mode": {
    "name": "ipython",
    "version": 3
   },
   "file_extension": ".py",
   "mimetype": "text/x-python",
   "name": "python",
   "nbconvert_exporter": "python",
   "pygments_lexer": "ipython3",
   "version": "3.11.0 (main, Oct 24 2022, 18:26:48) [MSC v.1933 64 bit (AMD64)]"
  },
  "orig_nbformat": 4,
  "vscode": {
   "interpreter": {
    "hash": "991f681cc1e9b44d094ae24c6a7364d87bff330c40c764f3e3b7cd958115720b"
   }
  }
 },
 "nbformat": 4,
 "nbformat_minor": 2
}
