{
 "cells": [
  {
   "attachments": {},
   "cell_type": "markdown",
   "metadata": {},
   "source": [
    "Exercise 1: Input List"
   ]
  },
  {
   "cell_type": "code",
   "execution_count": 2,
   "metadata": {},
   "outputs": [
    {
     "name": "stdout",
     "output_type": "stream",
     "text": [
      "Enter number at index 0\n",
      "Enter number at index 1\n",
      "Enter number at index 2\n",
      "Enter number at index 3\n",
      "Enter number at index 4\n",
      "User list is  [3, 1, 4, 2, 6]\n"
     ]
    }
   ],
   "source": [
    "numbers = []\n",
    "for i in range(5): #for loop for 5 given in a range\n",
    "    print(\"Enter number at index\", i) \n",
    "    numbers.append(int(input())) #appends the given number on the list\n",
    "print(\"User list is\", numbers) "
   ]
  },
  {
   "attachments": {},
   "cell_type": "markdown",
   "metadata": {},
   "source": [
    "Exercise 2: Interger List"
   ]
  },
  {
   "cell_type": "code",
   "execution_count": 19,
   "metadata": {},
   "outputs": [
    {
     "name": "stdout",
     "output_type": "stream",
     "text": [
      "4\n",
      "12\n",
      "51\n",
      "6\n",
      "7\n",
      "1\n",
      "12\n",
      "67\n",
      "75\n",
      "11\n",
      "The hightest number in the list is: 75\n",
      "The lowest number in the list is: 1\n",
      "List in descending order: [75, 67, 51, 12, 12, 11, 7, 6, 4, 1]\n",
      "List in ascending order: [1, 4, 6, 7, 11, 12, 12, 51, 67, 75]\n",
      "Appended list: [1, 4, 6, 7, 11, 12, 12, 51, 67, 75, 69, 360]\n"
     ]
    }
   ],
   "source": [
    "lists = [4, 12, 51, 6, 7, 1, 12, 67, 75, 11] #a list with 10 value\n",
    "for output in (lists): #for loop to print the list\n",
    "    print(output)\n",
    "print(\"The hightest number in the list is:\", max(lists)) #prints the highest value in the list\n",
    "print(\"The lowest number in the list is:\", min(lists)) #prints the lowest value in the list\n",
    "lists.sort(reverse = True) #sorts the list in a descending order\n",
    "print(\"List in descending order:\",lists)\n",
    "lists.sort(reverse = False) #sorts the list in an ascending order\n",
    "print(\"List in ascending order:\", lists)\n",
    "lists.extend((69, 360)) #appends/extend 2 additional values onto the list\n",
    "print(\"Appended list:\", lists)\n"
   ]
  },
  {
   "attachments": {},
   "cell_type": "markdown",
   "metadata": {},
   "source": [
    "Exercise 3: Film Dictionary"
   ]
  },
  {
   "cell_type": "code",
   "execution_count": 6,
   "metadata": {},
   "outputs": [
    {
     "name": "stdout",
     "output_type": "stream",
     "text": [
      "\n",
      "Name: The Hatchet\n",
      "Author: Gary Paulsen\n",
      "\n",
      "Name: Twenty Thousand Leagues Under the Sea\n",
      "Author: Jules Verne\n",
      "\n",
      "Name: Journey to the Center of the Earth\n",
      "Author: Jules Verne\n"
     ]
    }
   ],
   "source": [
    "details = {\"The Hatchet\": \"Gary Paulsen\", \"Twenty Thousand Leagues Under the Sea\": \"Jules Verne\", \"Journey to the Center of the Earth\": \"Jules Verne\"} #all given details\n",
    "for all, value in details.items(): #for loop for the dictionary\n",
    "    print(f\"\\nName: {all}\") #prints the 1st value\n",
    "    print(f\"Author: {value}\") #prints the 2nd value"
   ]
  },
  {
   "attachments": {},
   "cell_type": "markdown",
   "metadata": {},
   "source": [
    "Exercise 4: Year Tuples"
   ]
  },
  {
   "cell_type": "code",
   "execution_count": 30,
   "metadata": {},
   "outputs": [
    {
     "name": "stdout",
     "output_type": "stream",
     "text": [
      "The value at index -3 is: 2020\n",
      "Original: (2017, 2003, 2011, 2005, 1987, 2009, 2020, 2018, 2009)\n",
      "Reversed: (2009, 2018, 2020, 2009, 1987, 2005, 2011, 2003, 2017)\n",
      "There are 2 different 2009 counts.\n",
      "The index value of 2018 is: 7\n",
      "The lenght of the tuple is 9 index long.\n"
     ]
    }
   ],
   "source": [
    "year = (2017,2003,2011,2005,1987,2009,2020,2018,2009)\n",
    "print(\"The value at index -3 is:\", year[-3])\n",
    "ryear = reversed(year)\n",
    "ryear = tuple(ryear)\n",
    "print(\"Original:\", year)\n",
    "print(\"Reversed:\", ryear)\n",
    "print(\"There are\", year.count(2009), \"different 2009 counts.\")\n",
    "print(\"The index value of 2018 is:\", year.index(2018))\n",
    "print(\"The lenght of the tuple is\", len(year), \"index long.\")"
   ]
  },
  {
   "attachments": {},
   "cell_type": "markdown",
   "metadata": {},
   "source": [
    "Exercise 5: Count Items"
   ]
  },
  {
   "cell_type": "code",
   "execution_count": 22,
   "metadata": {},
   "outputs": [
    {
     "name": "stdout",
     "output_type": "stream",
     "text": [
      "Count of Iftikhar: 3\n"
     ]
    }
   ],
   "source": [
    "staff = [\"Arshiya\", \"Usman\", \"Iftikhar\", \"Usman\", \"Anmol\",\"Zainab\",\"Iftikhar\", \"Arshiya\",\"Jake\",\"Iftikhar\"]\n",
    "count = staff.count(\"Iftikhar\")\n",
    "print(\"Count of Iftikhar:\", count)"
   ]
  },
  {
   "attachments": {},
   "cell_type": "markdown",
   "metadata": {},
   "source": [
    "Optional Exercise 6: Locations List"
   ]
  },
  {
   "cell_type": "code",
   "execution_count": 42,
   "metadata": {},
   "outputs": [
    {
     "name": "stdout",
     "output_type": "stream",
     "text": [
      "['Dubai', 'Paris', 'Switzerland', 'London', 'Amsterdam', 'New York'] \n",
      "The lenght of the list is 6\n",
      "Alphabetical order: ['Amsterdam', 'Dubai', 'London', 'New York', 'Paris', 'Switzerland']\n",
      "Still original: ['Dubai', 'Paris', 'Switzerland', 'London', 'Amsterdam', 'New York']\n",
      "Reverse alphabetical order: ['Switzerland', 'Paris', 'New York', 'London', 'Dubai', 'Amsterdam']\n",
      "Still original: ['Dubai', 'Paris', 'Switzerland', 'London', 'Amsterdam', 'New York']\n",
      "Reversed: ['New York', 'Amsterdam', 'London', 'Switzerland', 'Paris', 'Dubai']\n",
      "Sorted Alphatical order: ['Amsterdam', 'Dubai', 'London', 'New York', 'Paris', 'Switzerland']\n",
      "Sorted Reversed Alphatical order: ['Switzerland', 'Paris', 'New York', 'London', 'Dubai', 'Amsterdam']\n"
     ]
    }
   ],
   "source": [
    "locations =['Dubai','Paris', 'Switzerland', 'London', 'Amsterdam', 'New York']\n",
    "print(locations, \"\\nThe lenght of the list is\", len(locations))\n",
    "print(\"Alphabetical order:\", sorted(locations))\n",
    "print(\"Still original:\", locations)\n",
    "print(\"Reverse alphabetical order:\", sorted(locations, reverse = True))\n",
    "print(\"Still original:\", locations)\n",
    "locations.reverse()\n",
    "print(\"Reversed:\", locations)\n",
    "locations.sort()\n",
    "print(\"Sorted Alphatical order:\", locations)\n",
    "locations.sort(reverse=True)\n",
    "print(\"Sorted Reversed Alphatical order:\", locations)"
   ]
  },
  {
   "attachments": {},
   "cell_type": "markdown",
   "metadata": {},
   "source": [
    "Optional Exercise 7: Cities Dictionary"
   ]
  },
  {
   "cell_type": "code",
   "execution_count": 47,
   "metadata": {},
   "outputs": [
    {
     "name": "stdout",
     "output_type": "stream",
     "text": [
      "\n",
      "City: Dubai\n",
      "Details(Country, Population, Fun Fact): ['UAE', '3,552,346', \"It's a very young city.\"]\n",
      "\n",
      "City: Manila\n",
      "Details(Country, Population, Fun Fact): ['Philippines', '14,406,059', 'Pearl of the Orient']\n",
      "\n",
      "City: Cario\n",
      "Details(Country, Population, Fun Fact): ['Egypt', '21,750,000', 'One of tge largest cities in Africa']\n"
     ]
    }
   ],
   "source": [
    "cities = {'Dubai' : [\"UAE\", \"3,552,346\", \"It's a very young city.\"],\n",
    "          'Manila' : [\"Philippines\", \"14,406,059\", \"Pearl of the Orient\"],\n",
    "          'Cario' : [\"Egypt\", \"21,750,000\", \"One of tge largest cities in Africa\"]\n",
    "          } #all given details\n",
    "for all, value in cities.items(): #for loop for the dictionary\n",
    "    print(f\"\\nCity: {all}\") #prints the 1st value\n",
    "    print(f\"Details(Country, Population, Fun Fact): {value}\") #prints the 2nd value"
   ]
  }
 ],
 "metadata": {
  "kernelspec": {
   "display_name": "Python 3.11.0 64-bit",
   "language": "python",
   "name": "python3"
  },
  "language_info": {
   "codemirror_mode": {
    "name": "ipython",
    "version": 3
   },
   "file_extension": ".py",
   "mimetype": "text/x-python",
   "name": "python",
   "nbconvert_exporter": "python",
   "pygments_lexer": "ipython3",
   "version": "3.11.0 (main, Oct 24 2022, 18:26:48) [MSC v.1933 64 bit (AMD64)]"
  },
  "orig_nbformat": 4,
  "vscode": {
   "interpreter": {
    "hash": "991f681cc1e9b44d094ae24c6a7364d87bff330c40c764f3e3b7cd958115720b"
   }
  }
 },
 "nbformat": 4,
 "nbformat_minor": 2
}
