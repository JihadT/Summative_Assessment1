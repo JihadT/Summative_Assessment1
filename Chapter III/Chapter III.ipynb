{
 "cells": [
  {
   "attachments": {},
   "cell_type": "markdown",
   "metadata": {},
   "source": [
    "Exercise 1: Format Name"
   ]
  },
  {
   "cell_type": "code",
   "execution_count": 2,
   "metadata": {},
   "outputs": [
    {
     "name": "stdout",
     "output_type": "stream",
     "text": [
      "Hello, jay tim\n"
     ]
    }
   ],
   "source": [
    "first = input(\"Input your first name:\")\n",
    "last = input(\"Input your last name:\")\n",
    "print(f\"Hello, {first} {last}\")"
   ]
  },
  {
   "attachments": {},
   "cell_type": "markdown",
   "metadata": {},
   "source": [
    "Exercise 2: Sum Function"
   ]
  },
  {
   "cell_type": "code",
   "execution_count": 7,
   "metadata": {},
   "outputs": [
    {
     "name": "stdout",
     "output_type": "stream",
     "text": [
      "7\n"
     ]
    }
   ],
   "source": [
    "def sum(x):\n",
    "    x = a + b\n",
    "    return x\n",
    "a = int(input(\"Input the first value:\"))\n",
    "b = int(input(\"Input the second value:\"))\n",
    "x = ()\n",
    "print(sum(x))\n"
   ]
  },
  {
   "attachments": {},
   "cell_type": "markdown",
   "metadata": {},
   "source": [
    "Exercise 3: Area Function"
   ]
  },
  {
   "cell_type": "code",
   "execution_count": 13,
   "metadata": {},
   "outputs": [
    {
     "name": "stdout",
     "output_type": "stream",
     "text": [
      "5.0\n"
     ]
    }
   ],
   "source": [
    "import Constant\n",
    "def square(x):\n",
    "    a = int(input(\"Enter the value of the side:\"))\n",
    "    x = a * a\n",
    "    return x\n",
    "def circle(x):\n",
    "    r = int(input(\"Enter the value of the radius:\"))\n",
    "    x = (Constant.PI) * r ** 2\n",
    "    return x\n",
    "def triangle(x):\n",
    "    b = int(input(\"Enter the value of the base:\"))\n",
    "    h = int(input(\"Enter the value of the height:\"))\n",
    "    x = (b * h) / 2\n",
    "    return x\n",
    "a = int(input(\"Pick a number which shape to find the area: (1. Square | 2. Circle | 3. Triangle)\"))\n",
    "if a == 1:\n",
    "    print(square(a))\n",
    "elif a == 2:\n",
    "    print(circle(a))\n",
    "elif a == 3:\n",
    "    print(triangle(a))\n",
    "else:\n",
    "    print(\"Invalid Input\")\n",
    "    "
   ]
  },
  {
   "attachments": {},
   "cell_type": "markdown",
   "metadata": {},
   "source": [
    "Exercise 4: Calculator Function"
   ]
  },
  {
   "cell_type": "code",
   "execution_count": 15,
   "metadata": {},
   "outputs": [
    {
     "name": "stdout",
     "output_type": "stream",
     "text": [
      "Sum of 4 and 2 = 6\n"
     ]
    }
   ],
   "source": [
    "def add():\n",
    "    c = a + b\n",
    "    print (\"Sum of\",a,\"and\", b, \"=\",c)\n",
    "def sub():\n",
    "    c = a - b\n",
    "    print (\"Difference of\",a,\"and\", b, \"=\",c)\n",
    "def mult():\n",
    "    c = a * b\n",
    "    print (\"Product of\",a,\"and\", b, \"=\",c)\n",
    "def div():\n",
    "    c = a / b\n",
    "    print (\"Quotient of\",a,\"and\", b, \"=\",c)\n",
    "def mod():\n",
    "    c = a % b\n",
    "    print (\"Quotient Modulus of\",a,\"and\", b, \"=\",c)\n",
    "\n",
    "a = int(input(\"What will be the value of a? \"))\n",
    "b = int(input(\"What will be the value of b? \"))\n",
    "d = int(input(\"Which operation would you like to be operated to a and b?(1-5) (a _ b = ?)\\n1. Addition(+)\\n2. Subtraction(-)\\n3. Multiplication(*)\\n4. Division(/)\\n\\n5. Modulus Division(%)\\n\"))\n",
    "if (d == 1):\n",
    "    add()\n",
    "if (d == 2):\n",
    "    sub()\n",
    "if (d == 3):\n",
    "    mult()\n",
    "if (d == 4):\n",
    "    div()\n",
    "if (d == 5):\n",
    "    mod() "
   ]
  },
  {
   "attachments": {},
   "cell_type": "markdown",
   "metadata": {},
   "source": [
    "Exercise 5: Product of List Items"
   ]
  },
  {
   "cell_type": "code",
   "execution_count": 11,
   "metadata": {},
   "outputs": [
    {
     "name": "stdout",
     "output_type": "stream",
     "text": [
      "The product of the values inside the numList is 11516567040\n"
     ]
    }
   ],
   "source": [
    "def pro(list):\n",
    "    prod = 1\n",
    "    for x in list:\n",
    "        prod = prod * int(x)\n",
    "    return prod\n",
    "\n",
    "num = [33,12,44,153,6,2,1,6,12,5]\n",
    "print(\"The product of the values inside the numList is\", pro(num))"
   ]
  },
  {
   "attachments": {},
   "cell_type": "markdown",
   "metadata": {},
   "source": [
    "Exercise 6: Exercise - Factorial"
   ]
  },
  {
   "cell_type": "code",
   "execution_count": 16,
   "metadata": {},
   "outputs": [
    {
     "name": "stdout",
     "output_type": "stream",
     "text": [
      "The factorial of 5 is  120\n"
     ]
    }
   ],
   "source": [
    "def myfac(n):\n",
    "    if (n > 0):\n",
    "        fac = 0\n",
    "        fac = n * myfac(n-1)\n",
    "        return fac\n",
    "    else:\n",
    "    \treturn 1\n",
    "i = int(input(\"Enter a value to be factorial: \"))\n",
    "print(\"The factorial of\", i , \"is \",myfac(i))"
   ]
  },
  {
   "attachments": {},
   "cell_type": "markdown",
   "metadata": {},
   "source": [
    "Exercise 7: Lambda Function"
   ]
  },
  {
   "cell_type": "code",
   "execution_count": 19,
   "metadata": {},
   "outputs": [
    {
     "name": "stdout",
     "output_type": "stream",
     "text": [
      "[('Responsive web', 65), ('CodeLab I', 67), ('Smartphone Apps', 68), ('Games Development', 70), ('CodeLabII', 74), ('web Development', 75)]\n"
     ]
    }
   ],
   "source": [
    "marks = [(\"CodeLab I\",67),(\"web Development\", 75),(\"CodeLabII\",74),(\"Smartphone Apps\",68),(\"Games Development\",70),(\"Responsive web\",65)]\n",
    "marks.sort(key = lambda x : x[1])\n",
    "print(marks)"
   ]
  },
  {
   "attachments": {},
   "cell_type": "markdown",
   "metadata": {},
   "source": [
    "Optional Exercise 8: Count Characters"
   ]
  },
  {
   "cell_type": "code",
   "execution_count": 6,
   "metadata": {},
   "outputs": [
    {
     "name": "stdout",
     "output_type": "stream",
     "text": [
      "Phrase: I love u\n",
      "Number of letters: 8\n",
      "Number of vowels: 4\n",
      "Number of consonants: 2\n",
      "Number of special characters: 2\n"
     ]
    }
   ],
   "source": [
    "string = (input(\"Input a Phrase of your choice:\"))\n",
    "vow = 0\n",
    "cons = 0\n",
    "letters = 0\n",
    "spel = 0\n",
    "print(\"Phrase:\", string)\n",
    "txt = string.upper()\n",
    "for i in txt:\n",
    "    letters += 1\n",
    "    if i == 'A' or i == 'E' or i == 'I' or i == 'O' or i == 'U':\n",
    "        vow += 1\n",
    "    elif i == ' ':\n",
    "        spel += 1\n",
    "    else:\n",
    "        cons += 1\n",
    "print(\"Number of letters:\", letters)\n",
    "print(\"Number of vowels:\", vow)\n",
    "print(\"Number of consonants:\", cons)\n",
    "print(\"Number of special characters:\", spel)\n"
   ]
  },
  {
   "attachments": {},
   "cell_type": "markdown",
   "metadata": {},
   "source": [
    "Optional Exercise 9: Power Recursive Function"
   ]
  },
  {
   "cell_type": "code",
   "execution_count": 8,
   "metadata": {},
   "outputs": [
    {
     "name": "stdout",
     "output_type": "stream",
     "text": [
      "The value of 5 to the power of 3 is 125\n"
     ]
    }
   ],
   "source": [
    "def factorial(x):\n",
    "    return(num ** pow)\n",
    "num = int(input(\"Enter a value:\"))\n",
    "pow = int(input(\"Enter the power:\"))\n",
    "print(\"The value of\", num, \"to the power of\", pow, \"is\", factorial(num))"
   ]
  }
 ],
 "metadata": {
  "kernelspec": {
   "display_name": "Python 3.11.0 64-bit",
   "language": "python",
   "name": "python3"
  },
  "language_info": {
   "codemirror_mode": {
    "name": "ipython",
    "version": 3
   },
   "file_extension": ".py",
   "mimetype": "text/x-python",
   "name": "python",
   "nbconvert_exporter": "python",
   "pygments_lexer": "ipython3",
   "version": "3.11.1"
  },
  "orig_nbformat": 4,
  "vscode": {
   "interpreter": {
    "hash": "991f681cc1e9b44d094ae24c6a7364d87bff330c40c764f3e3b7cd958115720b"
   }
  }
 },
 "nbformat": 4,
 "nbformat_minor": 2
}
