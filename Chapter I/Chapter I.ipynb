{
 "cells": [
  {
   "cell_type": "markdown",
   "metadata": {},
   "source": [
    "Exercise 1: Print"
   ]
  },
  {
   "cell_type": "code",
   "execution_count": 2,
   "metadata": {
    "tags": []
   },
   "outputs": [
    {
     "name": "stdout",
     "output_type": "stream",
     "text": [
      "Python uses \"interpreter\" to convert source code into machine code.\n",
      "Interpreter 'translates' program one statement at a time.\n"
     ]
    }
   ],
   "source": [
    "print('Python uses \"interpreter\" to convert source code into machine code.\\n'\"Interpreter 'translates' program one statement at a time.\") #prints all the value"
   ]
  },
  {
   "cell_type": "markdown",
   "metadata": {},
   "source": [
    "Exercise 2: Constant Variable PI"
   ]
  },
  {
   "cell_type": "code",
   "execution_count": 22,
   "metadata": {},
   "outputs": [
    {
     "name": "stdout",
     "output_type": "stream",
     "text": [
      "Finding the Area and Circumference of a circle.\n",
      "\n",
      "The area and circumference of a circle with the radius of 5 are:\n",
      "Area = 78.53999999999999 \n",
      "Circumference = 31.416\n"
     ]
    }
   ],
   "source": [
    "import Constant\n",
    "print('Finding the Area and Circumference of a circle.\\n') #prints the value\n",
    "r = int(input('Input the radius to generate your answers: ')) #user inputs the radius value\n",
    "a = (Constant.PI) * r ** 2 #formula for area\n",
    "c = (Constant.PI) * r * 2 #formula for circumference\n",
    "print(f\"The area and circumference of a circle with the radius of {r} are:\\nArea = {a} \\nCircumference = {c}\") #prints all the values"
   ]
  },
  {
   "cell_type": "markdown",
   "metadata": {},
   "source": [
    "Exercise 3a: User Input Output"
   ]
  },
  {
   "cell_type": "code",
   "execution_count": 23,
   "metadata": {},
   "outputs": [
    {
     "name": "stdout",
     "output_type": "stream",
     "text": [
      "Your Name is: Jihad\n",
      "Your Age is: 20\n",
      "Your Hometown is : Abu Dhabi\n"
     ]
    }
   ],
   "source": [
    "name = input('What is your name? ') #user inputs his/her name\n",
    "age = int(input('How old are you? ')) #user inputs his/her age\n",
    "loc = input('Where do you live/where are you from? ') #user inputs his/her location\n",
    "print(f\"Your Name is: {name}\\nYour Age is: {age}\\nYour Hometown is : {loc}\") #prints all the values"
   ]
  },
  {
   "cell_type": "markdown",
   "metadata": {},
   "source": [
    "Exercise 3b: User Input Output"
   ]
  },
  {
   "cell_type": "code",
   "execution_count": 77,
   "metadata": {},
   "outputs": [
    {
     "name": "stdout",
     "output_type": "stream",
     "text": [
      "Good to meet you, Jihad\n",
      "Your name has 5 letters on it\n",
      "Your Age is: 20\n",
      "You will be 21 in a year.\n"
     ]
    }
   ],
   "source": [
    "name = input('What is your name? ') #prints user's name\n",
    "age = int(input('How old are you? ')) #prints user's age\n",
    "Name = name.title() #capitalizes the name\n",
    "length = len(name) #counts how long the name is\n",
    "year = age + 1 #adds the age by one\n",
    "print(f\"Good to meet you, {Name}\\nYour name has {length} letters on it\\nYour Age is: {age}\\nYou will be {year} in a year.\") #prints all the value"
   ]
  },
  {
   "cell_type": "markdown",
   "metadata": {},
   "source": [
    "Exercise 4: Number Input Output(Incomplete)"
   ]
  },
  {
   "cell_type": "code",
   "execution_count": 21,
   "metadata": {},
   "outputs": [
    {
     "name": "stdout",
     "output_type": "stream",
     "text": [
      "Number 1:  5\n",
      "Number 2:  1\n",
      "Number 3:  2\n",
      "Numbers in ascending order:\n",
      " [1, 2, 5]\n",
      "Numbers in descending order:\n",
      " [5, 2, 1]\n"
     ]
    }
   ],
   "source": [
    "a = [int(input(\"First Number: \")), int(input(\"Second Number: \")), int(input(\"Third Number: \"))] #declaring a value to 3 different integers\n",
    "print(\"Number 1: \", a[0]) \n",
    "print(\"Number 2: \", a[1])   #prints all the inputted integers\n",
    "print(\"Number 3: \", a[2])\n",
    "for x in range (0, len(a)): #start of the for loop\n",
    "    for i in range (0, (len(a))-1): #second for loop statement\n",
    "        if a[i] > a[i+1]:\n",
    "            a[i], a[i+1] = a[i+1], a[i] #formula for ascending order\n",
    "print(\"Numbers in ascending order:\\n\", a) #prints the 3 inputted numbers in ascending order\n",
    "for x in range (0, len(a)): #start of the second for loop\n",
    "    for i in range (0, (len(a))-1): #second for loop statement\n",
    "        if a[i] < a[i+1]:\n",
    "            a[i], a[i+1] = a[i+1], a[i] #formula for descending order\n",
    "print(\"Numbers in descending order:\\n\", a) #prints the 3 inputted numbers in ascending order\n"
   ]
  },
  {
   "cell_type": "markdown",
   "metadata": {},
   "source": [
    "Exercise 5: Maths"
   ]
  },
  {
   "cell_type": "code",
   "execution_count": 91,
   "metadata": {},
   "outputs": [
    {
     "name": "stdout",
     "output_type": "stream",
     "text": [
      "| CALCULATOR |\n",
      "Sum (+) | Diff (-) | Prod (x) | Quot (/) | Remain (%)\n",
      "The quotient of 111 and 11 is 10.090909090909092\n"
     ]
    }
   ],
   "source": [
    "print(\"| CALCULATOR |\")\n",
    "print(\"Sum (+) | Diff (-) | Prod (x) | Quot (/) | Remain (%)\") #prints all the options\n",
    "a = int(input('Input your first interger')) #user inputs the first number\n",
    "b = int(input('Input your second interger')) #user inputs the second number\n",
    "operator = input(\"Pick which operation would you like to choose: (Sum (+) | Diff (-) | Prod (x) | Quot (/) | Remain (%))\") #user inputs the operator of choice\n",
    "op = operator.title() #capitalizes the value of op to make it easier in the if statements\n",
    "if(op == 'Sum' or op == '+'): #start of the if statements for all the operators\n",
    "    print(f'The sum of {a} and {b} is {a+b}') #prints the answer and displays the 2 inputted numbers\n",
    "if(op == 'Diff' or op == '-'):\n",
    "    print(f'The difference of {a} and {b} is {a-b}')\n",
    "if(op == 'Prod' or op == 'X' or op == '*'):\n",
    "    print(f'The product of {a} and {b} is {a*b}')\n",
    "if(op == 'Quot' or op == '/'):\n",
    "    print(f'The quotient of {a} and {b} is {a//b}')\n",
    "if(op == 'Remain' or op == '%'):\n",
    "    print(f'The remainder of {a} and {b} is {a%b}')"
   ]
  },
  {
   "cell_type": "markdown",
   "metadata": {},
   "source": [
    "Exercise 6: Is it Triangle"
   ]
  },
  {
   "cell_type": "code",
   "execution_count": 6,
   "metadata": {},
   "outputs": [
    {
     "name": "stdout",
     "output_type": "stream",
     "text": [
      "|Is your input a triangle?|\n",
      "It is a valid triangle.\n",
      "It is a Scalene Triangle with no equal sides\n"
     ]
    }
   ],
   "source": [
    "print(\"|Is your input a triangle?|\")\n",
    "a = int(input(\"Input the length of the first side: \")) #input first side of triangle\n",
    "b = int(input(\"Input the length of the second side: \")) #input second side of triangle\n",
    "c = int(input(\"Input the length of the third side: \")) #input third side of triangle\n",
    "if (abs(a - b) < c < a + b): #if statement for checking if the triangle is valid or not\n",
    "    print(\"It is a valid triangle.\") #prints if true\n",
    "    if (a == b == c): #if statement to check the type of triangle\n",
    "        print(\"It is an Equilateral Triangle with all equal sides\")\n",
    "    elif (a == b or b == c): #elif statement if first condition is false\n",
    "        print(\"It is an Isosceles Triangle with 2 equal sides\")\n",
    "    else:\n",
    "        print(\"It is a Scalene Triangle with no equal sides\") #prints if false\n",
    "else:\n",
    "    print(\"Not a valid triangle\") #prints if false"
   ]
  },
  {
   "cell_type": "markdown",
   "metadata": {},
   "source": [
    "Exercise 7: Is it Even?"
   ]
  },
  {
   "cell_type": "code",
   "execution_count": 12,
   "metadata": {},
   "outputs": [
    {
     "name": "stdout",
     "output_type": "stream",
     "text": [
      "|Is is Even or not?|\n",
      "Even\n"
     ]
    }
   ],
   "source": [
    "print(\"|Is is Even or not?|\")\n",
    "a = int(input(\"Input a value: \")) #user declares an integer of the variable\n",
    "even = \"Even\" if a % 2 == 0 else \"Not even\" #using ternary operator in the variable\n",
    "print(even) #prints the variable"
   ]
  },
  {
   "cell_type": "markdown",
   "metadata": {},
   "source": [
    "Exercise 8: Largest Number"
   ]
  },
  {
   "cell_type": "code",
   "execution_count": 6,
   "metadata": {},
   "outputs": [
    {
     "name": "stdout",
     "output_type": "stream",
     "text": [
      "|Which of the three inputs is the largest?|\n",
      "12312412\n"
     ]
    }
   ],
   "source": [
    "print(\"|Which of the three inputs is the largest?|\")\n",
    "a = int(input(\"Input the first integer: \"))\n",
    "b = int(input(\"Input the second integer: \")) #user declares all 3 int variables\n",
    "c = int(input(\"Input the third integer: \"))\n",
    "large = max(a, b, c) #using max functions to find the highest int value\n",
    "print(large) #prints the variable"
   ]
  },
  {
   "cell_type": "markdown",
   "metadata": {},
   "source": [
    "Exercise 9: Continue"
   ]
  },
  {
   "cell_type": "code",
   "execution_count": 34,
   "metadata": {},
   "outputs": [
    {
     "name": "stdout",
     "output_type": "stream",
     "text": [
      "y\n",
      "y\n",
      "y\n",
      "y\n",
      "y\n",
      "y\n",
      "y\n",
      "The loop has been looped 7 amount of times\n"
     ]
    }
   ],
   "source": [
    "x = \"y\" #declaring x as \"y\" to start the loop\n",
    "z =  0 \n",
    "while x == \"y\" or x == \"Y\": #start of while loop\n",
    "    print(x)\n",
    "    x = input(\"If you wanna continue the loop type y.\") #user either inputs y tp continue or not\n",
    "    z += 1 #incrementing the variable z to count the loops\n",
    "print(f\"The while loop has been executed {z} amount of times\") #printing how many times the loop has been executed\n"
   ]
  },
  {
   "cell_type": "markdown",
   "metadata": {},
   "source": [
    "Exercise 10: FizzBuzz"
   ]
  },
  {
   "cell_type": "code",
   "execution_count": 2,
   "metadata": {},
   "outputs": [
    {
     "name": "stdout",
     "output_type": "stream",
     "text": [
      "FizzBuzz\n",
      "1\n",
      "2\n",
      "Fizz\n",
      "4\n",
      "Buzz\n",
      "Fizz\n",
      "7\n",
      "8\n",
      "Fizz\n",
      "Buzz\n",
      "11\n",
      "Fizz\n",
      "13\n",
      "14\n",
      "FizzBuzz\n",
      "16\n",
      "17\n",
      "Fizz\n",
      "19\n",
      "Buzz\n",
      "Fizz\n",
      "22\n",
      "23\n",
      "Fizz\n",
      "Buzz\n",
      "26\n",
      "Fizz\n",
      "28\n",
      "29\n",
      "FizzBuzz\n",
      "31\n",
      "32\n",
      "Fizz\n",
      "34\n",
      "Buzz\n",
      "Fizz\n",
      "37\n",
      "38\n",
      "Fizz\n",
      "Buzz\n",
      "41\n",
      "Fizz\n",
      "43\n",
      "44\n",
      "FizzBuzz\n",
      "46\n",
      "47\n",
      "Fizz\n",
      "49\n",
      "Buzz\n",
      "Fizz\n",
      "52\n",
      "53\n",
      "Fizz\n",
      "Buzz\n",
      "56\n",
      "Fizz\n",
      "58\n",
      "59\n",
      "FizzBuzz\n",
      "61\n",
      "62\n",
      "Fizz\n",
      "64\n",
      "Buzz\n",
      "Fizz\n",
      "67\n",
      "68\n",
      "Fizz\n",
      "Buzz\n",
      "71\n",
      "Fizz\n",
      "73\n",
      "74\n",
      "FizzBuzz\n",
      "76\n",
      "77\n",
      "Fizz\n",
      "79\n",
      "Buzz\n",
      "Fizz\n",
      "82\n",
      "83\n",
      "Fizz\n",
      "Buzz\n",
      "86\n",
      "Fizz\n",
      "88\n",
      "89\n",
      "FizzBuzz\n",
      "91\n",
      "92\n",
      "Fizz\n",
      "94\n",
      "Buzz\n",
      "Fizz\n",
      "97\n",
      "98\n",
      "Fizz\n",
      "Buzz\n"
     ]
    }
   ],
   "source": [
    "x = 0\n",
    "while x <= 100: #runs the code till 100\n",
    "    if x % 3 == 0 and x % 5 == 0: #first condition for both multiples of 3 and 5\n",
    "        print(\"FizzBuzz\")\n",
    "    elif x % 3 == 0: #second condition for multiples of 3\n",
    "        print(\"Fizz\") \n",
    "    elif x % 5 == 0: #third condition for multiples of 5\n",
    "        print(\"Buzz\")\n",
    "    else: #else condition prints just the numebr\n",
    "        print(x)\n",
    "    x += 1 #incrementing the value of x\n",
    "\n",
    "    "
   ]
  },
  {
   "attachments": {},
   "cell_type": "markdown",
   "metadata": {},
   "source": [
    "Exercise 11: Even Numbers"
   ]
  },
  {
   "cell_type": "code",
   "execution_count": 12,
   "metadata": {},
   "outputs": [
    {
     "name": "stdout",
     "output_type": "stream",
     "text": [
      "0\n",
      "2\n",
      "4\n",
      "6\n",
      "8\n",
      "10\n",
      "12\n",
      "14\n",
      "16\n",
      "18\n",
      "20\n",
      "22\n",
      "24\n",
      "26\n",
      "28\n",
      "30\n",
      "32\n",
      "34\n",
      "36\n",
      "38\n",
      "40\n",
      "42\n",
      "44\n",
      "46\n",
      "48\n",
      "50\n",
      "52\n",
      "54\n",
      "56\n",
      "58\n",
      "60\n",
      "62\n",
      "64\n",
      "66\n",
      "68\n",
      "70\n",
      "72\n",
      "74\n",
      "76\n",
      "78\n",
      "80\n",
      "82\n",
      "84\n",
      "86\n",
      "88\n",
      "90\n",
      "92\n",
      "94\n",
      "96\n",
      "98\n",
      "100\n"
     ]
    }
   ],
   "source": [
    "x = -1\n",
    "while x < 100: #runs the statement till 100\n",
    "    x += 1 #incrementing the value of x\n",
    "    if not x % 2 == 0: #first condition to check if it is an odd number\n",
    "        continue #if the if statement is true/odd number then next statement skip\n",
    "    print(x)"
   ]
  },
  {
   "attachments": {},
   "cell_type": "markdown",
   "metadata": {},
   "source": [
    "Optional Exercise 12: Count Seconds"
   ]
  },
  {
   "cell_type": "code",
   "execution_count": 16,
   "metadata": {},
   "outputs": [
    {
     "name": "stdout",
     "output_type": "stream",
     "text": [
      "There are 432000 sconds in 5 days\n"
     ]
    }
   ],
   "source": [
    "x = int(input(\"Enter the number of days would you like to be calculated into seconds: \")) #asking the user for the input\n",
    "hours = x * 24\n",
    "minutes = hours * 60    #all the needed convertions\n",
    "seconds = minutes * 60\n",
    "print(\"There are\", seconds , \"sconds in\", x, \"days\")"
   ]
  },
  {
   "attachments": {},
   "cell_type": "markdown",
   "metadata": {},
   "source": [
    "Optional Exercise 13: Sum of Digits in a Number"
   ]
  },
  {
   "cell_type": "code",
   "execution_count": 18,
   "metadata": {},
   "outputs": [
    {
     "name": "stdout",
     "output_type": "stream",
     "text": [
      "20\n"
     ]
    }
   ],
   "source": [
    "def sum(no):\n",
    "    return 0 if no == 0 else int(no % 10) + sum(int(no / 10)) #formula for adding all the digits in an integer\n",
    "x = int(input(\"Input a random digit of numbers: \"))\n",
    "print(sum(x))"
   ]
  },
  {
   "attachments": {},
   "cell_type": "markdown",
   "metadata": {},
   "source": [
    "Optional Exercise 14: Print Pattern"
   ]
  },
  {
   "cell_type": "code",
   "execution_count": 37,
   "metadata": {},
   "outputs": [
    {
     "name": "stdout",
     "output_type": "stream",
     "text": [
      "1 \n",
      "1 2 \n",
      "1 2 3 \n",
      "1 2 3 4 \n",
      "1 2 3 4 5 \n"
     ]
    }
   ],
   "source": [
    "x = 5\n",
    "for y in range(x): \n",
    "    for z in range(y + 1):\n",
    "        print(z + 1, end=\" \") \n",
    "    print('')"
   ]
  },
  {
   "attachments": {},
   "cell_type": "markdown",
   "metadata": {},
   "source": [
    "Optional Exercise: Multiplication Tables"
   ]
  },
  {
   "cell_type": "code",
   "execution_count": 35,
   "metadata": {},
   "outputs": [
    {
     "name": "stdout",
     "output_type": "stream",
     "text": [
      "Multiplication table of : 1\n",
      "1 x 1 = 1\n",
      "1 x 2 = 2\n",
      "1 x 3 = 3\n",
      "1 x 4 = 4\n",
      "1 x 5 = 5\n",
      "1 x 6 = 6\n",
      "1 x 7 = 7\n",
      "1 x 8 = 8\n",
      "1 x 9 = 9\n",
      "1 x 10 = 10\n",
      "Multiplication table of : 2\n",
      "2 x 1 = 2\n",
      "2 x 2 = 4\n",
      "2 x 3 = 6\n",
      "2 x 4 = 8\n",
      "2 x 5 = 10\n",
      "2 x 6 = 12\n",
      "2 x 7 = 14\n",
      "2 x 8 = 16\n",
      "2 x 9 = 18\n",
      "2 x 10 = 20\n",
      "Multiplication table of : 3\n",
      "3 x 1 = 3\n",
      "3 x 2 = 6\n",
      "3 x 3 = 9\n",
      "3 x 4 = 12\n",
      "3 x 5 = 15\n",
      "3 x 6 = 18\n",
      "3 x 7 = 21\n",
      "3 x 8 = 24\n",
      "3 x 9 = 27\n",
      "3 x 10 = 30\n",
      "Multiplication table of : 4\n",
      "4 x 1 = 4\n",
      "4 x 2 = 8\n",
      "4 x 3 = 12\n",
      "4 x 4 = 16\n",
      "4 x 5 = 20\n",
      "4 x 6 = 24\n",
      "4 x 7 = 28\n",
      "4 x 8 = 32\n",
      "4 x 9 = 36\n",
      "4 x 10 = 40\n",
      "Multiplication table of : 5\n",
      "5 x 1 = 5\n",
      "5 x 2 = 10\n",
      "5 x 3 = 15\n",
      "5 x 4 = 20\n",
      "5 x 5 = 25\n",
      "5 x 6 = 30\n",
      "5 x 7 = 35\n",
      "5 x 8 = 40\n",
      "5 x 9 = 45\n",
      "5 x 10 = 50\n",
      "Multiplication table of : 6\n",
      "6 x 1 = 6\n",
      "6 x 2 = 12\n",
      "6 x 3 = 18\n",
      "6 x 4 = 24\n",
      "6 x 5 = 30\n",
      "6 x 6 = 36\n",
      "6 x 7 = 42\n",
      "6 x 8 = 48\n",
      "6 x 9 = 54\n",
      "6 x 10 = 60\n",
      "Multiplication table of : 7\n",
      "7 x 1 = 7\n",
      "7 x 2 = 14\n",
      "7 x 3 = 21\n",
      "7 x 4 = 28\n",
      "7 x 5 = 35\n",
      "7 x 6 = 42\n",
      "7 x 7 = 49\n",
      "7 x 8 = 56\n",
      "7 x 9 = 63\n",
      "7 x 10 = 70\n",
      "Multiplication table of : 8\n",
      "8 x 1 = 8\n",
      "8 x 2 = 16\n",
      "8 x 3 = 24\n",
      "8 x 4 = 32\n",
      "8 x 5 = 40\n",
      "8 x 6 = 48\n",
      "8 x 7 = 56\n",
      "8 x 8 = 64\n",
      "8 x 9 = 72\n",
      "8 x 10 = 80\n",
      "Multiplication table of : 9\n",
      "9 x 1 = 9\n",
      "9 x 2 = 18\n",
      "9 x 3 = 27\n",
      "9 x 4 = 36\n",
      "9 x 5 = 45\n",
      "9 x 6 = 54\n",
      "9 x 7 = 63\n",
      "9 x 8 = 72\n",
      "9 x 9 = 81\n",
      "9 x 10 = 90\n",
      "Multiplication table of : 10\n",
      "10 x 1 = 10\n",
      "10 x 2 = 20\n",
      "10 x 3 = 30\n",
      "10 x 4 = 40\n",
      "10 x 5 = 50\n",
      "10 x 6 = 60\n",
      "10 x 7 = 70\n",
      "10 x 8 = 80\n",
      "10 x 9 = 90\n",
      "10 x 10 = 100\n"
     ]
    }
   ],
   "source": [
    "x = 1\n",
    "while x <= 10: #while loop until 10\n",
    "    print(\"Multiplication table of :\", x)\n",
    "    for i in range(1, 11): #range of the multiplication\n",
    "        print(x, 'x', i, '=', x*i) #formula for the table\n",
    "    x += 1 #increments the value for 1-10 multi table"
   ]
  }
 ],
 "metadata": {
  "kernelspec": {
   "display_name": "Python 3.11.0 64-bit",
   "language": "python",
   "name": "python3"
  },
  "language_info": {
   "codemirror_mode": {
    "name": "ipython",
    "version": 3
   },
   "file_extension": ".py",
   "mimetype": "text/x-python",
   "name": "python",
   "nbconvert_exporter": "python",
   "pygments_lexer": "ipython3",
   "version": "3.11.0"
  },
  "orig_nbformat": 4,
  "vscode": {
   "interpreter": {
    "hash": "991f681cc1e9b44d094ae24c6a7364d87bff330c40c764f3e3b7cd958115720b"
   }
  }
 },
 "nbformat": 4,
 "nbformat_minor": 2
}
