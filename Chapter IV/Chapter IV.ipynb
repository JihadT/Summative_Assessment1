{
 "cells": [
  {
   "attachments": {},
   "cell_type": "markdown",
   "metadata": {},
   "source": [
    "Exercise 1: User Information"
   ]
  },
  {
   "cell_type": "code",
   "execution_count": 5,
   "metadata": {},
   "outputs": [
    {
     "name": "stdout",
     "output_type": "stream",
     "text": [
      "Name: Jihad\n",
      "\n",
      "Age: 20\n",
      "\n",
      "HomeTown: Philippines\n",
      "\n"
     ]
    }
   ],
   "source": [
    "name = input('What is your name?: ')\n",
    "age = int(input(\"How old are you?: \"))\n",
    "home = input(\"Where are you from?: \")\n",
    "\n",
    "with open('bio.txt', 'w') as infos:\n",
    "    infos.write(f\"Name: {name}\\n\")\n",
    "    infos.write(f\"Age: {age}\\n\")\n",
    "    infos.write(f\"HomeTown: {home}\\n\")\n",
    "    \n",
    "with open('bio.txt') as line:\n",
    "    for x in line:\n",
    "        print(x)"
   ]
  },
  {
   "attachments": {},
   "cell_type": "markdown",
   "metadata": {},
   "source": [
    "Exercise 2: Count"
   ]
  },
  {
   "cell_type": "code",
   "execution_count": 29,
   "metadata": {},
   "outputs": [
    {
     "name": "stdout",
     "output_type": "stream",
     "text": [
      "The phrase has been repeated: 9 amount of times\n"
     ]
    }
   ],
   "source": [
    "count = 0\n",
    "phrase = \"Hello my name is Amster Sani\"\n",
    "with open('sentences.txt', 'r') as read:\n",
    "    line = read.readlines()\n",
    "for y in line:\n",
    "    if phrase in y:\n",
    "        count += 1\n",
    "    else:\n",
    "        continue\n",
    "print(\"The phrase has been repeated:\", count, \"amount of times\")"
   ]
  },
  {
   "attachments": {},
   "cell_type": "markdown",
   "metadata": {},
   "source": [
    "Exercise 3: Reading to a List"
   ]
  },
  {
   "cell_type": "code",
   "execution_count": 21,
   "metadata": {},
   "outputs": [
    {
     "name": "stdout",
     "output_type": "stream",
     "text": [
      "[321, 213, 4564, 345, 34, 52523, 323, 1234, 1, 4, 15, 24, 5, 34, 5634, 5, 234, 523, 4, 123, 4, 1234, 231, 5, 4256, 34, 6, 564, 45, 123, 4, 12, 4, 1234, 23, 5, 53, 45, 34, 56, 346, 4367, 324, 4, 1324, 123, 4, 256, 3, 26, 57, 58, 5, 6, 234, 634, 5, 345, 234, 5, 235, 2345, 23, 423, 4, 23, 5, 2346, 345, 645, 6, 456, 24, 5, 245, 234, 523, 5, 235, 324, 367, 57, 64, 856, 234, 34, 5, 235, 23, 42, 34, 23, 6, 5, 57, 4, 67, 87, 65, 234234]\n"
     ]
    }
   ],
   "source": [
    "file = open('numbers.txt', \"r\")\n",
    "data = file.read()\n",
    "datatolist = data.split(\"\\n\")\n",
    "res = [eval(i) for i in datatolist]\n",
    "print(res)\n",
    "file.close()"
   ]
  },
  {
   "attachments": {},
   "cell_type": "markdown",
   "metadata": {},
   "source": [
    "Exercise 4: Petrol Price"
   ]
  },
  {
   "cell_type": "code",
   "execution_count": 27,
   "metadata": {},
   "outputs": [
    {
     "name": "stdout",
     "output_type": "stream",
     "text": [
      "Average price is: 3.6\n",
      "Litres that were bought under 3.5 AED are:\n",
      "20.0\n",
      "9.6\n",
      "5.0\n"
     ]
    }
   ],
   "source": [
    "petrol = []\n",
    "price = []\n",
    "\n",
    "with open(\"petrolprice.txt\") as file_handler:\n",
    "    lines = file_handler.readlines()\n",
    "\n",
    "for pe in lines:\n",
    "    petrol.append(pe.split()[0])\n",
    "for pr in lines:\n",
    "    price.append(pr.split()[1])\n",
    "    \n",
    "petrol.remove(\"Liters\")\n",
    "price.remove(\"Cost\")\n",
    "\n",
    "num = []\n",
    "pet = 0\n",
    "pri = 0\n",
    "\n",
    "for x, y in zip(petrol, price):\n",
    "    pet = pet + float(x)\n",
    "    pri = pri + float(y)\n",
    "    result = round(float(y) / float(x), 1)\n",
    "    if result < 3.5:\n",
    "        num.append(x)\n",
    "\n",
    "avg = pri / pet\n",
    "\n",
    "print(\"Average price is:\",round(avg, 1))\n",
    "\n",
    "print(\"Litres that were bought under 3.5 AED are:\")\n",
    "for x in num:\n",
    "    print(x)"
   ]
  },
  {
   "attachments": {},
   "cell_type": "markdown",
   "metadata": {},
   "source": [
    "Exercise 5: Letter Count"
   ]
  },
  {
   "cell_type": "code",
   "execution_count": 28,
   "metadata": {},
   "outputs": [
    {
     "name": "stdout",
     "output_type": "stream",
     "text": [
      "There are 4078 letters in the given text file\n"
     ]
    }
   ],
   "source": [
    "with open('sentences.txt', 'r') as f:\n",
    "    file = open('sentences.txt', \"r\")\n",
    "    text = file.read()\n",
    "    count = 0\n",
    "    for char in text:\n",
    "        if char == \"\":\n",
    "            count + 0\n",
    "        else:\n",
    "            count += 1\n",
    "print(\"There are\", count, \"letters in the given text file\")"
   ]
  },
  {
   "attachments": {},
   "cell_type": "markdown",
   "metadata": {},
   "source": [
    "Exercise 6: Password Check"
   ]
  },
  {
   "cell_type": "code",
   "execution_count": null,
   "metadata": {},
   "outputs": [],
   "source": []
  }
 ],
 "metadata": {
  "kernelspec": {
   "display_name": "Python 3",
   "language": "python",
   "name": "python3"
  },
  "language_info": {
   "codemirror_mode": {
    "name": "ipython",
    "version": 3
   },
   "file_extension": ".py",
   "mimetype": "text/x-python",
   "name": "python",
   "nbconvert_exporter": "python",
   "pygments_lexer": "ipython3",
   "version": "3.11.1"
  },
  "orig_nbformat": 4,
  "vscode": {
   "interpreter": {
    "hash": "991f681cc1e9b44d094ae24c6a7364d87bff330c40c764f3e3b7cd958115720b"
   }
  }
 },
 "nbformat": 4,
 "nbformat_minor": 2
}
